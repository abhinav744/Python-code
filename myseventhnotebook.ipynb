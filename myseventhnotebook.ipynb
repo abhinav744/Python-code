{
 "cells": [
  {
   "cell_type": "code",
   "execution_count": 2,
   "id": "a69ca232-1121-4148-97bc-63aaa4ea1707",
   "metadata": {},
   "outputs": [],
   "source": [
    "from collections import Counter"
   ]
  },
  {
   "cell_type": "code",
   "execution_count": 4,
   "id": "352d6d77-1265-4cd6-8c0c-639583217be9",
   "metadata": {},
   "outputs": [],
   "source": [
    "mylist = [1,2,3,5,5,2,1,4,5,2,1,3,5,521,1,44]"
   ]
  },
  {
   "cell_type": "code",
   "execution_count": 6,
   "id": "ab2b6093-392e-4019-a957-fb04a98fdf12",
   "metadata": {},
   "outputs": [
    {
     "data": {
      "text/plain": [
       "Counter({1: 4, 5: 4, 2: 3, 3: 2, 4: 1, 521: 1, 44: 1})"
      ]
     },
     "execution_count": 6,
     "metadata": {},
     "output_type": "execute_result"
    }
   ],
   "source": [
    "Counter(mylist)"
   ]
  },
  {
   "cell_type": "code",
   "execution_count": 8,
   "id": "4646ab40-8676-47f6-b305-b7109251694d",
   "metadata": {},
   "outputs": [],
   "source": [
    "mylist = ['a','d',1,2,3,4,5]"
   ]
  },
  {
   "cell_type": "code",
   "execution_count": 10,
   "id": "6886d29e-ccfd-4e6e-bbf6-b56ffb8154d6",
   "metadata": {},
   "outputs": [
    {
     "data": {
      "text/plain": [
       "Counter({'a': 1, 'd': 1, 1: 1, 2: 1, 3: 1, 4: 1, 5: 1})"
      ]
     },
     "execution_count": 10,
     "metadata": {},
     "output_type": "execute_result"
    }
   ],
   "source": [
    "Counter(mylist)"
   ]
  },
  {
   "cell_type": "code",
   "execution_count": 12,
   "id": "992f4096-aa17-4c69-b564-1c67832e14e2",
   "metadata": {},
   "outputs": [],
   "source": [
    "sentence = \"how many times each word shows up\""
   ]
  },
  {
   "cell_type": "code",
   "execution_count": 16,
   "id": "2ce0ea7d-ae9d-4e43-adbd-0f5cad65b02a",
   "metadata": {},
   "outputs": [
    {
     "data": {
      "text/plain": [
       "Counter({'how': 1,\n",
       "         'many': 1,\n",
       "         'times': 1,\n",
       "         'each': 1,\n",
       "         'word': 1,\n",
       "         'shows': 1,\n",
       "         'up': 1})"
      ]
     },
     "execution_count": 16,
     "metadata": {},
     "output_type": "execute_result"
    }
   ],
   "source": [
    "Counter(sentence.split())"
   ]
  },
  {
   "cell_type": "code",
   "execution_count": 18,
   "id": "e6c6d932-0796-4403-9e5f-0003034f86d5",
   "metadata": {},
   "outputs": [],
   "source": [
    "letters = 'aaaaasssssddddfffffffffdwwwww'"
   ]
  },
  {
   "cell_type": "code",
   "execution_count": 22,
   "id": "8c3b0ebf-b5ab-4382-8844-f5cc74ca479a",
   "metadata": {},
   "outputs": [],
   "source": [
    "c = Counter(letters)"
   ]
  },
  {
   "cell_type": "code",
   "execution_count": 24,
   "id": "3d833314-316a-4178-b4a1-583af4f0ea46",
   "metadata": {},
   "outputs": [
    {
     "data": {
      "text/plain": [
       "Counter({'f': 9, 'a': 5, 's': 5, 'd': 5, 'w': 5})"
      ]
     },
     "execution_count": 24,
     "metadata": {},
     "output_type": "execute_result"
    }
   ],
   "source": [
    "c"
   ]
  },
  {
   "cell_type": "code",
   "execution_count": 30,
   "id": "5aed12df-d69c-469b-9902-40245e68a72c",
   "metadata": {},
   "outputs": [
    {
     "data": {
      "text/plain": [
       "[('f', 9), ('a', 5), ('s', 5), ('d', 5), ('w', 5)]"
      ]
     },
     "execution_count": 30,
     "metadata": {},
     "output_type": "execute_result"
    }
   ],
   "source": [
    "c.most_common()"
   ]
  },
  {
   "cell_type": "code",
   "execution_count": 32,
   "id": "a5a18aa7-83f1-4956-a7cf-d10874740679",
   "metadata": {},
   "outputs": [
    {
     "data": {
      "text/plain": [
       "[('f', 9), ('a', 5), ('s', 5)]"
      ]
     },
     "execution_count": 32,
     "metadata": {},
     "output_type": "execute_result"
    }
   ],
   "source": [
    "c.most_common(3)"
   ]
  },
  {
   "cell_type": "code",
   "execution_count": null,
   "id": "9240b33f-a6cd-4449-b408-349289a39471",
   "metadata": {},
   "outputs": [],
   "source": []
  },
  {
   "cell_type": "code",
   "execution_count": null,
   "id": "f5f1b8ab-c8c2-4923-8e1a-8e9f752d9304",
   "metadata": {},
   "outputs": [],
   "source": []
  },
  {
   "cell_type": "code",
   "execution_count": 36,
   "id": "786e3a4b-66d0-491f-8a54-321a6843b5d4",
   "metadata": {},
   "outputs": [],
   "source": [
    "from collections import defaultdict"
   ]
  },
  {
   "cell_type": "code",
   "execution_count": 38,
   "id": "b5b13d11-9c88-43ae-9eb9-21be6ed01191",
   "metadata": {},
   "outputs": [],
   "source": [
    "d = {'a':10}"
   ]
  },
  {
   "cell_type": "code",
   "execution_count": 40,
   "id": "40392719-9e1a-40cf-ad0d-e050a2425758",
   "metadata": {},
   "outputs": [
    {
     "data": {
      "text/plain": [
       "{'a': 10}"
      ]
     },
     "execution_count": 40,
     "metadata": {},
     "output_type": "execute_result"
    }
   ],
   "source": [
    "d"
   ]
  },
  {
   "cell_type": "code",
   "execution_count": 42,
   "id": "51a2df29-3129-47ef-8385-914f7fefdae3",
   "metadata": {},
   "outputs": [
    {
     "data": {
      "text/plain": [
       "10"
      ]
     },
     "execution_count": 42,
     "metadata": {},
     "output_type": "execute_result"
    }
   ],
   "source": [
    "d['a']"
   ]
  },
  {
   "cell_type": "code",
   "execution_count": 44,
   "id": "74217bc7-d26a-4e32-9178-5a3a1fbea1dc",
   "metadata": {},
   "outputs": [
    {
     "ename": "KeyError",
     "evalue": "'wrong'",
     "output_type": "error",
     "traceback": [
      "\u001b[1;31m---------------------------------------------------------------------------\u001b[0m",
      "\u001b[1;31mKeyError\u001b[0m                                  Traceback (most recent call last)",
      "Cell \u001b[1;32mIn[44], line 1\u001b[0m\n\u001b[1;32m----> 1\u001b[0m d[\u001b[38;5;124m'\u001b[39m\u001b[38;5;124mwrong\u001b[39m\u001b[38;5;124m'\u001b[39m]\n",
      "\u001b[1;31mKeyError\u001b[0m: 'wrong'"
     ]
    }
   ],
   "source": [
    "d['wrong']"
   ]
  },
  {
   "cell_type": "code",
   "execution_count": 76,
   "id": "1d94facf-0117-4ab4-be1e-63147e7d43b3",
   "metadata": {},
   "outputs": [],
   "source": [
    "d = defaultdict(lambda : 0)"
   ]
  },
  {
   "cell_type": "code",
   "execution_count": 78,
   "id": "73f8f536-0a79-402e-a6f4-92578b44f305",
   "metadata": {},
   "outputs": [],
   "source": [
    "d['correct'] = 100"
   ]
  },
  {
   "cell_type": "code",
   "execution_count": 80,
   "id": "7e7199f8-f272-48f8-a572-bb09129a8450",
   "metadata": {},
   "outputs": [
    {
     "data": {
      "text/plain": [
       "100"
      ]
     },
     "execution_count": 80,
     "metadata": {},
     "output_type": "execute_result"
    }
   ],
   "source": [
    "d['correct']"
   ]
  },
  {
   "cell_type": "code",
   "execution_count": 82,
   "id": "9c0898ad-4d9b-4360-b529-b8ef6bb83ace",
   "metadata": {},
   "outputs": [
    {
     "data": {
      "text/plain": [
       "0"
      ]
     },
     "execution_count": 82,
     "metadata": {},
     "output_type": "execute_result"
    }
   ],
   "source": [
    "d['wrong']"
   ]
  },
  {
   "cell_type": "code",
   "execution_count": null,
   "id": "794512c9-e081-4ac5-8cc7-21b7060bd6a9",
   "metadata": {},
   "outputs": [],
   "source": []
  },
  {
   "cell_type": "code",
   "execution_count": null,
   "id": "1b111a5d-8673-4667-ae83-5235d43ae1c6",
   "metadata": {},
   "outputs": [],
   "source": []
  },
  {
   "cell_type": "code",
   "execution_count": 100,
   "id": "49c84814-62af-4fa6-950e-38e0d367f2ca",
   "metadata": {},
   "outputs": [],
   "source": [
    "from collections import namedtuple"
   ]
  },
  {
   "cell_type": "code",
   "execution_count": 102,
   "id": "df6f998b-e8f9-4d28-9b0a-bedec822ea58",
   "metadata": {},
   "outputs": [],
   "source": [
    "Dog = namedtuple('Dog', ['age', 'breed', 'name'])"
   ]
  },
  {
   "cell_type": "code",
   "execution_count": 114,
   "id": "0b2fc132-db25-4e31-b9f8-8ce5ed2b4f2f",
   "metadata": {},
   "outputs": [],
   "source": [
    "sammy = Dog(5, 'husky', 'sam')\n",
    "#sammy = Dog(age = 5, breed = 'husky', name = 'sam')"
   ]
  },
  {
   "cell_type": "code",
   "execution_count": 116,
   "id": "ddc6d832-55fe-4b4c-8e23-5ec5da5adf08",
   "metadata": {},
   "outputs": [
    {
     "data": {
      "text/plain": [
       "5"
      ]
     },
     "execution_count": 116,
     "metadata": {},
     "output_type": "execute_result"
    }
   ],
   "source": [
    "sammy.age"
   ]
  },
  {
   "cell_type": "code",
   "execution_count": 118,
   "id": "cf29f508-387d-4e4e-ae38-244f255b39af",
   "metadata": {},
   "outputs": [
    {
     "data": {
      "text/plain": [
       "'husky'"
      ]
     },
     "execution_count": 118,
     "metadata": {},
     "output_type": "execute_result"
    }
   ],
   "source": [
    "sammy.breed"
   ]
  },
  {
   "cell_type": "code",
   "execution_count": 120,
   "id": "5a82dbf8-3e35-4b73-a094-3c65669e493a",
   "metadata": {},
   "outputs": [
    {
     "data": {
      "text/plain": [
       "'sam'"
      ]
     },
     "execution_count": 120,
     "metadata": {},
     "output_type": "execute_result"
    }
   ],
   "source": [
    "sammy.name"
   ]
  },
  {
   "cell_type": "code",
   "execution_count": 122,
   "id": "ea3f3c6b-357b-425c-96ab-008bdd560c70",
   "metadata": {},
   "outputs": [
    {
     "data": {
      "text/plain": [
       "5"
      ]
     },
     "execution_count": 122,
     "metadata": {},
     "output_type": "execute_result"
    }
   ],
   "source": [
    "sammy[0]"
   ]
  },
  {
   "cell_type": "code",
   "execution_count": null,
   "id": "2267a5bd-9a8f-4c5d-ae24-2c8c2dbce068",
   "metadata": {},
   "outputs": [],
   "source": []
  },
  {
   "cell_type": "code",
   "execution_count": null,
   "id": "f1e744a8-2f3e-4dc1-ba4c-905714b161fa",
   "metadata": {},
   "outputs": [],
   "source": []
  },
  {
   "cell_type": "code",
   "execution_count": null,
   "id": "75b6fff3-d71e-4e38-8766-27185515fbdf",
   "metadata": {},
   "outputs": [],
   "source": []
  },
  {
   "cell_type": "code",
   "execution_count": 32,
   "id": "b5375e35-6228-4eea-8108-8a0ee13a27a6",
   "metadata": {},
   "outputs": [
    {
     "data": {
      "text/plain": [
       "'C:\\\\Users\\\\HP\\\\My python code'"
      ]
     },
     "execution_count": 32,
     "metadata": {},
     "output_type": "execute_result"
    }
   ],
   "source": [
    "pwd"
   ]
  },
  {
   "cell_type": "code",
   "execution_count": 34,
   "id": "e0a6419d-c777-480f-ac31-c2aefa8a6bd8",
   "metadata": {},
   "outputs": [],
   "source": [
    "f = open('practice.txt','w+')\n",
    "f.write('this is a test string')\n",
    "f.close()"
   ]
  },
  {
   "cell_type": "code",
   "execution_count": 36,
   "id": "f9eebf74-9207-4c5e-a530-8d7ccec809cd",
   "metadata": {},
   "outputs": [],
   "source": [
    "import os"
   ]
  },
  {
   "cell_type": "code",
   "execution_count": 38,
   "id": "166a224a-805a-47ec-b356-cc2df883ab92",
   "metadata": {},
   "outputs": [
    {
     "data": {
      "text/plain": [
       "'C:\\\\Users\\\\HP\\\\My python code'"
      ]
     },
     "execution_count": 38,
     "metadata": {},
     "output_type": "execute_result"
    }
   ],
   "source": [
    "os.getcwd()"
   ]
  },
  {
   "cell_type": "code",
   "execution_count": 40,
   "id": "370771c4-e13c-4a2a-a58e-6f757849570b",
   "metadata": {},
   "outputs": [
    {
     "data": {
      "text/plain": [
       "['All Users', 'Default', 'Default User', 'desktop.ini', 'HP', 'Public']"
      ]
     },
     "execution_count": 40,
     "metadata": {},
     "output_type": "execute_result"
    }
   ],
   "source": [
    "os.listdir('C:\\\\Users')"
   ]
  },
  {
   "cell_type": "code",
   "execution_count": 42,
   "id": "1c5d1823-8d81-468a-a299-fb5a34409b6e",
   "metadata": {},
   "outputs": [],
   "source": [
    "import shutil"
   ]
  },
  {
   "cell_type": "code",
   "execution_count": 46,
   "id": "c5545c57-854d-465e-b569-d6db62cb188b",
   "metadata": {},
   "outputs": [
    {
     "ename": "Error",
     "evalue": "Destination path 'C:\\Users\\HP\\My python code\\practice.txt' already exists",
     "output_type": "error",
     "traceback": [
      "\u001b[1;31m---------------------------------------------------------------------------\u001b[0m",
      "\u001b[1;31mError\u001b[0m                                     Traceback (most recent call last)",
      "Cell \u001b[1;32mIn[46], line 1\u001b[0m\n\u001b[1;32m----> 1\u001b[0m shutil\u001b[38;5;241m.\u001b[39mmove(\u001b[38;5;124m'\u001b[39m\u001b[38;5;124mpractice.txt\u001b[39m\u001b[38;5;124m'\u001b[39m, \u001b[38;5;124m'\u001b[39m\u001b[38;5;124mC:\u001b[39m\u001b[38;5;130;01m\\\\\u001b[39;00m\u001b[38;5;124mUsers\u001b[39m\u001b[38;5;130;01m\\\\\u001b[39;00m\u001b[38;5;124mHP\u001b[39m\u001b[38;5;130;01m\\\\\u001b[39;00m\u001b[38;5;124mMy python code\u001b[39m\u001b[38;5;124m'\u001b[39m, os\u001b[38;5;241m.\u001b[39mgetcwd())\n",
      "File \u001b[1;32m~\\anaconda3\\Lib\\shutil.py:845\u001b[0m, in \u001b[0;36mmove\u001b[1;34m(src, dst, copy_function)\u001b[0m\n\u001b[0;32m    842\u001b[0m     real_dst \u001b[38;5;241m=\u001b[39m os\u001b[38;5;241m.\u001b[39mpath\u001b[38;5;241m.\u001b[39mjoin(dst, _basename(src))\n\u001b[0;32m    844\u001b[0m     \u001b[38;5;28;01mif\u001b[39;00m os\u001b[38;5;241m.\u001b[39mpath\u001b[38;5;241m.\u001b[39mexists(real_dst):\n\u001b[1;32m--> 845\u001b[0m         \u001b[38;5;28;01mraise\u001b[39;00m Error(\u001b[38;5;124m\"\u001b[39m\u001b[38;5;124mDestination path \u001b[39m\u001b[38;5;124m'\u001b[39m\u001b[38;5;132;01m%s\u001b[39;00m\u001b[38;5;124m'\u001b[39m\u001b[38;5;124m already exists\u001b[39m\u001b[38;5;124m\"\u001b[39m \u001b[38;5;241m%\u001b[39m real_dst)\n\u001b[0;32m    846\u001b[0m \u001b[38;5;28;01mtry\u001b[39;00m:\n\u001b[0;32m    847\u001b[0m     os\u001b[38;5;241m.\u001b[39mrename(src, real_dst)\n",
      "\u001b[1;31mError\u001b[0m: Destination path 'C:\\Users\\HP\\My python code\\practice.txt' already exists"
     ]
    }
   ],
   "source": [
    "shutil.move('practice.txt', 'C:\\\\Users\\\\HP\\\\My python code', os.getcwd())"
   ]
  },
  {
   "cell_type": "code",
   "execution_count": 48,
   "id": "8dcff96e-0636-4bc4-baa5-a017b77c9732",
   "metadata": {},
   "outputs": [],
   "source": [
    "import send2trash"
   ]
  },
  {
   "cell_type": "code",
   "execution_count": 50,
   "id": "a9aa450b-c442-4f43-9cbf-4d4e3f3ffdeb",
   "metadata": {},
   "outputs": [
    {
     "data": {
      "text/plain": [
       "['.git',\n",
       " '.ipynb_checkpoints',\n",
       " 'adjfgug.txt',\n",
       " 'myfifthnotebook(tic tac toe game).ipynb',\n",
       " 'myfile.txt',\n",
       " 'myfirstnotebook.ipynb',\n",
       " 'myfourthnotebook.ipynb',\n",
       " 'mysecondnotebook.ipynb',\n",
       " 'myseventhnotebook.ipynb',\n",
       " 'mysixthnotebook.ipynb',\n",
       " 'mythirdnotebook.ipynb',\n",
       " 'my_new_file.txt',\n",
       " 'practice.txt',\n",
       " 'testfile']"
      ]
     },
     "execution_count": 50,
     "metadata": {},
     "output_type": "execute_result"
    }
   ],
   "source": [
    "os.listdir()"
   ]
  },
  {
   "cell_type": "code",
   "execution_count": 52,
   "id": "77b8a3ef-1c74-414d-bfd5-02a2ba5d5f41",
   "metadata": {},
   "outputs": [],
   "source": [
    "send2trash.send2trash('practice.txt')"
   ]
  },
  {
   "cell_type": "code",
   "execution_count": 54,
   "id": "189e9fdb-b8f7-49a6-a15b-3fa4e7cd7058",
   "metadata": {},
   "outputs": [
    {
     "data": {
      "text/plain": [
       "['.git',\n",
       " '.ipynb_checkpoints',\n",
       " 'adjfgug.txt',\n",
       " 'myfifthnotebook(tic tac toe game).ipynb',\n",
       " 'myfile.txt',\n",
       " 'myfirstnotebook.ipynb',\n",
       " 'myfourthnotebook.ipynb',\n",
       " 'mysecondnotebook.ipynb',\n",
       " 'myseventhnotebook.ipynb',\n",
       " 'mysixthnotebook.ipynb',\n",
       " 'mythirdnotebook.ipynb',\n",
       " 'my_new_file.txt',\n",
       " 'testfile']"
      ]
     },
     "execution_count": 54,
     "metadata": {},
     "output_type": "execute_result"
    }
   ],
   "source": [
    "os.listdir()"
   ]
  },
  {
   "cell_type": "code",
   "execution_count": 60,
   "id": "dd8fabd0-1e14-4e35-9b68-31de2715e622",
   "metadata": {},
   "outputs": [
    {
     "data": {
      "text/plain": [
       "'C:\\\\Users\\\\HP\\\\My python code'"
      ]
     },
     "execution_count": 60,
     "metadata": {},
     "output_type": "execute_result"
    }
   ],
   "source": [
    "os.getcwd()"
   ]
  },
  {
   "cell_type": "code",
   "execution_count": 62,
   "id": "bd8e9fc9-05db-4c4a-aebf-398ee4978955",
   "metadata": {},
   "outputs": [],
   "source": [
    "file_path = 'C:\\\\Users\\\\HP\\\\My python code'"
   ]
  },
  {
   "cell_type": "code",
   "execution_count": 64,
   "id": "dcffb847-bb06-4f4f-9363-8ffe5cff5b00",
   "metadata": {},
   "outputs": [
    {
     "name": "stdout",
     "output_type": "stream",
     "text": [
      "currently looking at C:\\Users\\HP\\My python code\n",
      "\n",
      "\n",
      "the subfolders are: \n",
      "\t subfolder: .git\n",
      "\t subfolder: .ipynb_checkpoints\n",
      "\n",
      "\n",
      "the files are:\n",
      "\t File: adjfgug.txt\n",
      "\t File: myfifthnotebook(tic tac toe game).ipynb\n",
      "\t File: myfile.txt\n",
      "\t File: myfirstnotebook.ipynb\n",
      "\t File: myfourthnotebook.ipynb\n",
      "\t File: mysecondnotebook.ipynb\n",
      "\t File: myseventhnotebook.ipynb\n",
      "\t File: mysixthnotebook.ipynb\n",
      "\t File: mythirdnotebook.ipynb\n",
      "\t File: my_new_file.txt\n",
      "\t File: testfile\n",
      "\n",
      "\n",
      "currently looking at C:\\Users\\HP\\My python code\\.git\n",
      "\n",
      "\n",
      "the subfolders are: \n",
      "\t subfolder: hooks\n",
      "\t subfolder: info\n",
      "\t subfolder: logs\n",
      "\t subfolder: objects\n",
      "\t subfolder: refs\n",
      "\n",
      "\n",
      "the files are:\n",
      "\t File: COMMIT_EDITMSG\n",
      "\t File: config\n",
      "\t File: description\n",
      "\t File: HEAD\n",
      "\t File: index\n",
      "\n",
      "\n",
      "currently looking at C:\\Users\\HP\\My python code\\.git\\hooks\n",
      "\n",
      "\n",
      "the subfolders are: \n",
      "\n",
      "\n",
      "the files are:\n",
      "\t File: applypatch-msg.sample\n",
      "\t File: commit-msg.sample\n",
      "\t File: fsmonitor-watchman.sample\n",
      "\t File: post-update.sample\n",
      "\t File: pre-applypatch.sample\n",
      "\t File: pre-commit.sample\n",
      "\t File: pre-merge-commit.sample\n",
      "\t File: pre-push.sample\n",
      "\t File: pre-rebase.sample\n",
      "\t File: pre-receive.sample\n",
      "\t File: prepare-commit-msg.sample\n",
      "\t File: push-to-checkout.sample\n",
      "\t File: sendemail-validate.sample\n",
      "\t File: update.sample\n",
      "\n",
      "\n",
      "currently looking at C:\\Users\\HP\\My python code\\.git\\info\n",
      "\n",
      "\n",
      "the subfolders are: \n",
      "\n",
      "\n",
      "the files are:\n",
      "\t File: exclude\n",
      "\n",
      "\n",
      "currently looking at C:\\Users\\HP\\My python code\\.git\\logs\n",
      "\n",
      "\n",
      "the subfolders are: \n",
      "\t subfolder: refs\n",
      "\n",
      "\n",
      "the files are:\n",
      "\t File: HEAD\n",
      "\n",
      "\n",
      "currently looking at C:\\Users\\HP\\My python code\\.git\\logs\\refs\n",
      "\n",
      "\n",
      "the subfolders are: \n",
      "\t subfolder: heads\n",
      "\t subfolder: remotes\n",
      "\n",
      "\n",
      "the files are:\n",
      "\n",
      "\n",
      "currently looking at C:\\Users\\HP\\My python code\\.git\\logs\\refs\\heads\n",
      "\n",
      "\n",
      "the subfolders are: \n",
      "\n",
      "\n",
      "the files are:\n",
      "\t File: master\n",
      "\n",
      "\n",
      "currently looking at C:\\Users\\HP\\My python code\\.git\\logs\\refs\\remotes\n",
      "\n",
      "\n",
      "the subfolders are: \n",
      "\t subfolder: origin\n",
      "\n",
      "\n",
      "the files are:\n",
      "\n",
      "\n",
      "currently looking at C:\\Users\\HP\\My python code\\.git\\logs\\refs\\remotes\\origin\n",
      "\n",
      "\n",
      "the subfolders are: \n",
      "\n",
      "\n",
      "the files are:\n",
      "\t File: master\n",
      "\n",
      "\n",
      "currently looking at C:\\Users\\HP\\My python code\\.git\\objects\n",
      "\n",
      "\n",
      "the subfolders are: \n",
      "\t subfolder: 05\n",
      "\t subfolder: 14\n",
      "\t subfolder: 36\n",
      "\t subfolder: 38\n",
      "\t subfolder: 3b\n",
      "\t subfolder: 45\n",
      "\t subfolder: 4a\n",
      "\t subfolder: 93\n",
      "\t subfolder: info\n",
      "\t subfolder: pack\n",
      "\n",
      "\n",
      "the files are:\n",
      "\n",
      "\n",
      "currently looking at C:\\Users\\HP\\My python code\\.git\\objects\\05\n",
      "\n",
      "\n",
      "the subfolders are: \n",
      "\n",
      "\n",
      "the files are:\n",
      "\t File: 26b0cb698b9a3635dfdb488826ad224eb8256b\n",
      "\n",
      "\n",
      "currently looking at C:\\Users\\HP\\My python code\\.git\\objects\\14\n",
      "\n",
      "\n",
      "the subfolders are: \n",
      "\n",
      "\n",
      "the files are:\n",
      "\t File: 4fe27f514a36a919a1f69c07b3c64d9d88d0f9\n",
      "\n",
      "\n",
      "currently looking at C:\\Users\\HP\\My python code\\.git\\objects\\36\n",
      "\n",
      "\n",
      "the subfolders are: \n",
      "\n",
      "\n",
      "the files are:\n",
      "\t File: 3fcab7ed6e9634e198cf5555ceb88932c9a245\n",
      "\n",
      "\n",
      "currently looking at C:\\Users\\HP\\My python code\\.git\\objects\\38\n",
      "\n",
      "\n",
      "the subfolders are: \n",
      "\n",
      "\n",
      "the files are:\n",
      "\t File: 1ba49e1594661cbc558431b02bd2c60fc23b71\n",
      "\n",
      "\n",
      "currently looking at C:\\Users\\HP\\My python code\\.git\\objects\\3b\n",
      "\n",
      "\n",
      "the subfolders are: \n",
      "\n",
      "\n",
      "the files are:\n",
      "\t File: 01eccc1299a69b9bf94740f4ae3c73989e633a\n",
      "\n",
      "\n",
      "currently looking at C:\\Users\\HP\\My python code\\.git\\objects\\45\n",
      "\n",
      "\n",
      "the subfolders are: \n",
      "\n",
      "\n",
      "the files are:\n",
      "\t File: 16948de3228c0d3f0114a634fb61e8b8eaeb78\n",
      "\n",
      "\n",
      "currently looking at C:\\Users\\HP\\My python code\\.git\\objects\\4a\n",
      "\n",
      "\n",
      "the subfolders are: \n",
      "\n",
      "\n",
      "the files are:\n",
      "\t File: b16cf6745e70b5e5543f52d05927707686f80c\n",
      "\n",
      "\n",
      "currently looking at C:\\Users\\HP\\My python code\\.git\\objects\\93\n",
      "\n",
      "\n",
      "the subfolders are: \n",
      "\n",
      "\n",
      "the files are:\n",
      "\t File: 9c859564a1a79ce746d80410e3b2dca0d69716\n",
      "\n",
      "\n",
      "currently looking at C:\\Users\\HP\\My python code\\.git\\objects\\info\n",
      "\n",
      "\n",
      "the subfolders are: \n",
      "\n",
      "\n",
      "the files are:\n",
      "\n",
      "\n",
      "currently looking at C:\\Users\\HP\\My python code\\.git\\objects\\pack\n",
      "\n",
      "\n",
      "the subfolders are: \n",
      "\n",
      "\n",
      "the files are:\n",
      "\n",
      "\n",
      "currently looking at C:\\Users\\HP\\My python code\\.git\\refs\n",
      "\n",
      "\n",
      "the subfolders are: \n",
      "\t subfolder: heads\n",
      "\t subfolder: remotes\n",
      "\t subfolder: tags\n",
      "\n",
      "\n",
      "the files are:\n",
      "\n",
      "\n",
      "currently looking at C:\\Users\\HP\\My python code\\.git\\refs\\heads\n",
      "\n",
      "\n",
      "the subfolders are: \n",
      "\n",
      "\n",
      "the files are:\n",
      "\t File: master\n",
      "\n",
      "\n",
      "currently looking at C:\\Users\\HP\\My python code\\.git\\refs\\remotes\n",
      "\n",
      "\n",
      "the subfolders are: \n",
      "\t subfolder: origin\n",
      "\n",
      "\n",
      "the files are:\n",
      "\n",
      "\n",
      "currently looking at C:\\Users\\HP\\My python code\\.git\\refs\\remotes\\origin\n",
      "\n",
      "\n",
      "the subfolders are: \n",
      "\n",
      "\n",
      "the files are:\n",
      "\t File: master\n",
      "\n",
      "\n",
      "currently looking at C:\\Users\\HP\\My python code\\.git\\refs\\tags\n",
      "\n",
      "\n",
      "the subfolders are: \n",
      "\n",
      "\n",
      "the files are:\n",
      "\n",
      "\n",
      "currently looking at C:\\Users\\HP\\My python code\\.ipynb_checkpoints\n",
      "\n",
      "\n",
      "the subfolders are: \n",
      "\n",
      "\n",
      "the files are:\n",
      "\t File: myfifthnotebook(tic tac toe game)-checkpoint.ipynb\n",
      "\t File: myfirstnotebook-checkpoint.ipynb\n",
      "\t File: myfourthnotebook-checkpoint.ipynb\n",
      "\t File: mysecondnotebook-checkpoint.ipynb\n",
      "\t File: myseventhnotebook-checkpoint.ipynb\n",
      "\t File: mysixthnotebook-checkpoint.ipynb\n",
      "\t File: mythirdnotebook-checkpoint.ipynb\n",
      "\t File: practice-checkpoint.txt\n",
      "\n",
      "\n"
     ]
    }
   ],
   "source": [
    "for folder, sub_folders, files in os.walk(file_path):\n",
    "    print(f\"currently looking at {folder}\")\n",
    "    print('\\n')\n",
    "    print('the subfolders are: ')\n",
    "    for sub_fold in sub_folders:\n",
    "        print(f\"\\t subfolder: {sub_fold}\")\n",
    "\n",
    "    print('\\n')\n",
    "    print(\"the files are:\")\n",
    "    for f in files:\n",
    "        print(f\"\\t File: {f}\")\n",
    "    print('\\n')"
   ]
  },
  {
   "cell_type": "code",
   "execution_count": null,
   "id": "40d4c3b1-0c1c-4074-9705-38674e17f972",
   "metadata": {},
   "outputs": [],
   "source": []
  },
  {
   "cell_type": "code",
   "execution_count": null,
   "id": "4cfdfab5-a19f-4381-ad19-ddf091bba249",
   "metadata": {},
   "outputs": [],
   "source": []
  },
  {
   "cell_type": "code",
   "execution_count": null,
   "id": "266fbb98-ef62-4dc6-b950-0fb62f7492a9",
   "metadata": {},
   "outputs": [],
   "source": []
  },
  {
   "cell_type": "code",
   "execution_count": 23,
   "id": "2537e6af-9845-4e02-8812-6e4071d9ce48",
   "metadata": {},
   "outputs": [],
   "source": [
    "import datetime"
   ]
  },
  {
   "cell_type": "code",
   "execution_count": 25,
   "id": "6926d366-8559-401b-bebd-4d4d33fa69f0",
   "metadata": {},
   "outputs": [],
   "source": [
    "mytime = datetime.time(2)"
   ]
  },
  {
   "cell_type": "code",
   "execution_count": 27,
   "id": "9368a973-7fb6-46f8-b6f1-1318c5218313",
   "metadata": {},
   "outputs": [
    {
     "name": "stdout",
     "output_type": "stream",
     "text": [
      "02:00:00\n"
     ]
    }
   ],
   "source": [
    "print(mytime)"
   ]
  },
  {
   "cell_type": "code",
   "execution_count": 29,
   "id": "64f2c569-44ec-46bd-a527-f3a107a58d11",
   "metadata": {},
   "outputs": [],
   "source": [
    "mytime = datetime.time(2,20)"
   ]
  },
  {
   "cell_type": "code",
   "execution_count": 31,
   "id": "a7beda85-64e2-4bc2-8851-2c3d1b87197a",
   "metadata": {},
   "outputs": [
    {
     "name": "stdout",
     "output_type": "stream",
     "text": [
      "02:20:00\n"
     ]
    }
   ],
   "source": [
    "print(mytime)"
   ]
  },
  {
   "cell_type": "code",
   "execution_count": 33,
   "id": "c9b2c2b8-1f8a-45d5-98b6-1197e6faf373",
   "metadata": {},
   "outputs": [],
   "source": [
    "mytime = datetime.time(2,20,30)"
   ]
  },
  {
   "cell_type": "code",
   "execution_count": 35,
   "id": "a83b8002-48c1-4902-9f07-c8059fab16ff",
   "metadata": {},
   "outputs": [
    {
     "name": "stdout",
     "output_type": "stream",
     "text": [
      "02:20:30\n"
     ]
    }
   ],
   "source": [
    "print(mytime)"
   ]
  },
  {
   "cell_type": "code",
   "execution_count": 37,
   "id": "3d435d30-b5aa-4fd3-adb4-fc496026d162",
   "metadata": {},
   "outputs": [],
   "source": [
    "mytime = datetime.time(2,20,20,30)"
   ]
  },
  {
   "cell_type": "code",
   "execution_count": 39,
   "id": "9585e822-bc79-4b08-b27c-95e29bb6dea6",
   "metadata": {},
   "outputs": [
    {
     "name": "stdout",
     "output_type": "stream",
     "text": [
      "02:20:20.000030\n"
     ]
    }
   ],
   "source": [
    "print(mytime)"
   ]
  },
  {
   "cell_type": "code",
   "execution_count": 41,
   "id": "52f1453b-26e7-4b1f-9d1b-66b1a028d9e5",
   "metadata": {},
   "outputs": [
    {
     "data": {
      "text/plain": [
       "2"
      ]
     },
     "execution_count": 41,
     "metadata": {},
     "output_type": "execute_result"
    }
   ],
   "source": [
    "mytime.hour"
   ]
  },
  {
   "cell_type": "code",
   "execution_count": 43,
   "id": "a5b0407b-7e5b-4460-84e0-77a4226f1d74",
   "metadata": {},
   "outputs": [
    {
     "data": {
      "text/plain": [
       "20"
      ]
     },
     "execution_count": 43,
     "metadata": {},
     "output_type": "execute_result"
    }
   ],
   "source": [
    "mytime.minute"
   ]
  },
  {
   "cell_type": "code",
   "execution_count": 45,
   "id": "e163fd0e-50bd-4d5e-a03b-e0f20f89ee1d",
   "metadata": {},
   "outputs": [
    {
     "data": {
      "text/plain": [
       "20"
      ]
     },
     "execution_count": 45,
     "metadata": {},
     "output_type": "execute_result"
    }
   ],
   "source": [
    "mytime.second"
   ]
  },
  {
   "cell_type": "code",
   "execution_count": 47,
   "id": "4b9f4f1d-9bdf-42a5-a622-b3f5a6fce559",
   "metadata": {},
   "outputs": [
    {
     "data": {
      "text/plain": [
       "30"
      ]
     },
     "execution_count": 47,
     "metadata": {},
     "output_type": "execute_result"
    }
   ],
   "source": [
    "mytime.microsecond"
   ]
  },
  {
   "cell_type": "code",
   "execution_count": 49,
   "id": "55f885ae-60e6-44aa-9278-005be9e75568",
   "metadata": {},
   "outputs": [
    {
     "data": {
      "text/plain": [
       "datetime.time"
      ]
     },
     "execution_count": 49,
     "metadata": {},
     "output_type": "execute_result"
    }
   ],
   "source": [
    "type(mytime)"
   ]
  },
  {
   "cell_type": "code",
   "execution_count": 51,
   "id": "556b79cd-687f-4494-a027-d414ed7fc510",
   "metadata": {},
   "outputs": [],
   "source": [
    "today = datetime.date.today()"
   ]
  },
  {
   "cell_type": "code",
   "execution_count": 53,
   "id": "75a5ccb0-9f21-478c-816b-910cbb59c54f",
   "metadata": {},
   "outputs": [
    {
     "name": "stdout",
     "output_type": "stream",
     "text": [
      "2025-01-14\n"
     ]
    }
   ],
   "source": [
    "print(today)"
   ]
  },
  {
   "cell_type": "code",
   "execution_count": 55,
   "id": "ef9f44d2-6407-41f8-973f-e0fae9acd0b4",
   "metadata": {},
   "outputs": [
    {
     "data": {
      "text/plain": [
       "2025"
      ]
     },
     "execution_count": 55,
     "metadata": {},
     "output_type": "execute_result"
    }
   ],
   "source": [
    "today.year"
   ]
  },
  {
   "cell_type": "code",
   "execution_count": 57,
   "id": "bbd0f0a7-7210-40bc-832e-95dbb86e73ec",
   "metadata": {},
   "outputs": [
    {
     "data": {
      "text/plain": [
       "1"
      ]
     },
     "execution_count": 57,
     "metadata": {},
     "output_type": "execute_result"
    }
   ],
   "source": [
    "today.month"
   ]
  },
  {
   "cell_type": "code",
   "execution_count": 59,
   "id": "252ff939-5866-47c9-b2c1-f6bc38c25086",
   "metadata": {},
   "outputs": [
    {
     "data": {
      "text/plain": [
       "14"
      ]
     },
     "execution_count": 59,
     "metadata": {},
     "output_type": "execute_result"
    }
   ],
   "source": [
    "today.day"
   ]
  },
  {
   "cell_type": "code",
   "execution_count": 61,
   "id": "8c200edf-45ba-4e3b-a76d-70087b80ea4e",
   "metadata": {},
   "outputs": [
    {
     "data": {
      "text/plain": [
       "'Tue Jan 14 00:00:00 2025'"
      ]
     },
     "execution_count": 61,
     "metadata": {},
     "output_type": "execute_result"
    }
   ],
   "source": [
    "today.ctime()"
   ]
  },
  {
   "cell_type": "code",
   "execution_count": 63,
   "id": "871563ea-d282-48c7-a00e-383d57d0d8a6",
   "metadata": {},
   "outputs": [],
   "source": [
    "from datetime import datetime"
   ]
  },
  {
   "cell_type": "code",
   "execution_count": 65,
   "id": "a67db8db-0cb0-46f5-afd4-486c9cfcdb0a",
   "metadata": {},
   "outputs": [],
   "source": [
    "mydatetime = datetime(2026,10,3,21,22,1)"
   ]
  },
  {
   "cell_type": "code",
   "execution_count": 67,
   "id": "b8ebc2c7-389b-468b-8ee9-763cb8897002",
   "metadata": {},
   "outputs": [
    {
     "name": "stdout",
     "output_type": "stream",
     "text": [
      "2026-10-03 21:22:01\n"
     ]
    }
   ],
   "source": [
    "print(mydatetime)"
   ]
  },
  {
   "cell_type": "code",
   "execution_count": 69,
   "id": "8f46b695-8b4d-4e65-bbca-472b949185da",
   "metadata": {},
   "outputs": [],
   "source": [
    "mydatetime = mydatetime.replace(year = 2025)"
   ]
  },
  {
   "cell_type": "code",
   "execution_count": 71,
   "id": "d818ad94-f68e-41a0-9915-9c1a47ace68c",
   "metadata": {},
   "outputs": [
    {
     "name": "stdout",
     "output_type": "stream",
     "text": [
      "2025-10-03 21:22:01\n"
     ]
    }
   ],
   "source": [
    "print(mydatetime)"
   ]
  },
  {
   "cell_type": "code",
   "execution_count": 73,
   "id": "807485c2-2fa6-4ef5-b96e-53bd2f4fbcaa",
   "metadata": {},
   "outputs": [],
   "source": [
    "#DATE"
   ]
  },
  {
   "cell_type": "code",
   "execution_count": 75,
   "id": "93108b21-4061-4777-9310-cc6baac471e4",
   "metadata": {},
   "outputs": [],
   "source": [
    "from datetime import date"
   ]
  },
  {
   "cell_type": "code",
   "execution_count": 77,
   "id": "f42192cc-dd5b-4e48-85e5-3b65a15e8d76",
   "metadata": {},
   "outputs": [],
   "source": [
    "date1 = date(2026, 11, 13)\n",
    "date2 = date(2025, 11, 13)"
   ]
  },
  {
   "cell_type": "code",
   "execution_count": 79,
   "id": "f0b6b1a2-4b7e-4910-8376-36a2aea2222d",
   "metadata": {},
   "outputs": [],
   "source": [
    "result = date1 - date2"
   ]
  },
  {
   "cell_type": "code",
   "execution_count": 81,
   "id": "75595412-5c53-4837-af2b-533f76f4e6d8",
   "metadata": {},
   "outputs": [
    {
     "data": {
      "text/plain": [
       "datetime.timedelta"
      ]
     },
     "execution_count": 81,
     "metadata": {},
     "output_type": "execute_result"
    }
   ],
   "source": [
    "type(result)"
   ]
  },
  {
   "cell_type": "code",
   "execution_count": 83,
   "id": "9aa950cd-6b31-4cbb-807c-407441849ed0",
   "metadata": {},
   "outputs": [
    {
     "data": {
      "text/plain": [
       "365"
      ]
     },
     "execution_count": 83,
     "metadata": {},
     "output_type": "execute_result"
    }
   ],
   "source": [
    "result.days"
   ]
  },
  {
   "cell_type": "code",
   "execution_count": 85,
   "id": "206a1217-fedc-4b82-a193-a86aaa785b70",
   "metadata": {},
   "outputs": [],
   "source": [
    "datetime1 = datetime(2026, 11, 3, 22, 0)\n",
    "datetime2 = datetime(2025, 11, 3, 12, 0)"
   ]
  },
  {
   "cell_type": "code",
   "execution_count": 87,
   "id": "c8cc4613-dd10-430b-9e73-a4f628b23968",
   "metadata": {},
   "outputs": [
    {
     "data": {
      "text/plain": [
       "datetime.timedelta(days=365, seconds=36000)"
      ]
     },
     "execution_count": 87,
     "metadata": {},
     "output_type": "execute_result"
    }
   ],
   "source": [
    "datetime1 - datetime2"
   ]
  },
  {
   "cell_type": "code",
   "execution_count": 89,
   "id": "e08c88eb-8ea6-48b1-a8ed-293468b6a8ba",
   "metadata": {},
   "outputs": [
    {
     "data": {
      "text/plain": [
       "10.0"
      ]
     },
     "execution_count": 89,
     "metadata": {},
     "output_type": "execute_result"
    }
   ],
   "source": [
    "36000/60/60"
   ]
  },
  {
   "cell_type": "code",
   "execution_count": 91,
   "id": "958d1241-c272-4fb0-9d02-01a32c7d34b7",
   "metadata": {},
   "outputs": [],
   "source": [
    "mydiff = datetime1 - datetime2"
   ]
  },
  {
   "cell_type": "code",
   "execution_count": 93,
   "id": "657d85a1-3024-4e23-a55e-d0a1b7faf110",
   "metadata": {},
   "outputs": [
    {
     "data": {
      "text/plain": [
       "36000"
      ]
     },
     "execution_count": 93,
     "metadata": {},
     "output_type": "execute_result"
    }
   ],
   "source": [
    "mydiff.seconds"
   ]
  },
  {
   "cell_type": "code",
   "execution_count": 95,
   "id": "955268fa-af03-40d2-8fec-fa830862fddd",
   "metadata": {},
   "outputs": [
    {
     "data": {
      "text/plain": [
       "<function timedelta.total_seconds>"
      ]
     },
     "execution_count": 95,
     "metadata": {},
     "output_type": "execute_result"
    }
   ],
   "source": [
    "mydiff.total_seconds"
   ]
  },
  {
   "cell_type": "code",
   "execution_count": null,
   "id": "b063ec3a-be64-4a53-a22e-204f4a9ee5c7",
   "metadata": {},
   "outputs": [],
   "source": []
  },
  {
   "cell_type": "code",
   "execution_count": null,
   "id": "545767fb-0266-4a4c-9557-016df7c17844",
   "metadata": {},
   "outputs": [],
   "source": []
  },
  {
   "cell_type": "code",
   "execution_count": 99,
   "id": "153d4500-a331-4c2e-a583-a4ad8de49322",
   "metadata": {},
   "outputs": [],
   "source": [
    "import math"
   ]
  },
  {
   "cell_type": "code",
   "execution_count": 101,
   "id": "68827cdb-5e68-495d-8c7f-5aed78c35d99",
   "metadata": {},
   "outputs": [],
   "source": [
    "value = 4.35"
   ]
  },
  {
   "cell_type": "code",
   "execution_count": 105,
   "id": "c37e0361-d117-48d7-9b43-f2a762dafc3d",
   "metadata": {},
   "outputs": [
    {
     "data": {
      "text/plain": [
       "4"
      ]
     },
     "execution_count": 105,
     "metadata": {},
     "output_type": "execute_result"
    }
   ],
   "source": [
    "math.floor(value)"
   ]
  },
  {
   "cell_type": "code",
   "execution_count": 107,
   "id": "78f7f015-ba84-4f9a-a22a-8b81ef1fd20f",
   "metadata": {},
   "outputs": [
    {
     "data": {
      "text/plain": [
       "5"
      ]
     },
     "execution_count": 107,
     "metadata": {},
     "output_type": "execute_result"
    }
   ],
   "source": [
    "math.ceil(value)"
   ]
  },
  {
   "cell_type": "code",
   "execution_count": 109,
   "id": "a1284732-5675-49b1-ba22-8c43e0b68fad",
   "metadata": {},
   "outputs": [
    {
     "data": {
      "text/plain": [
       "4"
      ]
     },
     "execution_count": 109,
     "metadata": {},
     "output_type": "execute_result"
    }
   ],
   "source": [
    "round(4.35)"
   ]
  },
  {
   "cell_type": "code",
   "execution_count": 111,
   "id": "758ff13f-c802-4c01-8d47-ed4ae02a6e9c",
   "metadata": {},
   "outputs": [
    {
     "data": {
      "text/plain": [
       "4"
      ]
     },
     "execution_count": 111,
     "metadata": {},
     "output_type": "execute_result"
    }
   ],
   "source": [
    "round(4.5)"
   ]
  },
  {
   "cell_type": "code",
   "execution_count": 113,
   "id": "989bbd10-2675-4c92-a033-e612547734c8",
   "metadata": {},
   "outputs": [
    {
     "data": {
      "text/plain": [
       "6"
      ]
     },
     "execution_count": 113,
     "metadata": {},
     "output_type": "execute_result"
    }
   ],
   "source": [
    "round(5.5)"
   ]
  },
  {
   "cell_type": "code",
   "execution_count": 115,
   "id": "6c520145-8abc-48b4-802a-1b7df5c2274c",
   "metadata": {},
   "outputs": [
    {
     "data": {
      "text/plain": [
       "3.141592653589793"
      ]
     },
     "execution_count": 115,
     "metadata": {},
     "output_type": "execute_result"
    }
   ],
   "source": [
    "math.pi"
   ]
  },
  {
   "cell_type": "code",
   "execution_count": 117,
   "id": "8db5b2ef-8da2-49e8-b22b-a042c0388f0b",
   "metadata": {},
   "outputs": [],
   "source": [
    "from math import pi"
   ]
  },
  {
   "cell_type": "code",
   "execution_count": 119,
   "id": "0c101888-7148-4b35-9fd2-4b8e4ec968a4",
   "metadata": {},
   "outputs": [
    {
     "data": {
      "text/plain": [
       "3.141592653589793"
      ]
     },
     "execution_count": 119,
     "metadata": {},
     "output_type": "execute_result"
    }
   ],
   "source": [
    "pi"
   ]
  },
  {
   "cell_type": "code",
   "execution_count": 121,
   "id": "17e2681e-2292-4dad-be8e-2914048db1b6",
   "metadata": {},
   "outputs": [
    {
     "data": {
      "text/plain": [
       "2.718281828459045"
      ]
     },
     "execution_count": 121,
     "metadata": {},
     "output_type": "execute_result"
    }
   ],
   "source": [
    "math.e"
   ]
  },
  {
   "cell_type": "code",
   "execution_count": 123,
   "id": "3cb12982-168b-48bf-99c5-6936cb980f8d",
   "metadata": {},
   "outputs": [
    {
     "data": {
      "text/plain": [
       "inf"
      ]
     },
     "execution_count": 123,
     "metadata": {},
     "output_type": "execute_result"
    }
   ],
   "source": [
    "math.inf"
   ]
  },
  {
   "cell_type": "code",
   "execution_count": 125,
   "id": "d8077bae-9944-4286-ad13-fe3a197b826a",
   "metadata": {},
   "outputs": [
    {
     "data": {
      "text/plain": [
       "nan"
      ]
     },
     "execution_count": 125,
     "metadata": {},
     "output_type": "execute_result"
    }
   ],
   "source": [
    "math.nan"
   ]
  },
  {
   "cell_type": "code",
   "execution_count": 127,
   "id": "959d0936-ac3f-48b2-a4f4-6a319a0ed7ff",
   "metadata": {},
   "outputs": [
    {
     "data": {
      "text/plain": [
       "1.0"
      ]
     },
     "execution_count": 127,
     "metadata": {},
     "output_type": "execute_result"
    }
   ],
   "source": [
    "math.log(math.e)"
   ]
  },
  {
   "cell_type": "code",
   "execution_count": 129,
   "id": "adbdf539-667a-4116-9490-8c02ff299d7b",
   "metadata": {},
   "outputs": [
    {
     "data": {
      "text/plain": [
       "2.0"
      ]
     },
     "execution_count": 129,
     "metadata": {},
     "output_type": "execute_result"
    }
   ],
   "source": [
    "math.log(100,10)"
   ]
  },
  {
   "cell_type": "code",
   "execution_count": 131,
   "id": "e3853899-7534-4531-ae78-7e0a288b60a7",
   "metadata": {},
   "outputs": [
    {
     "data": {
      "text/plain": [
       "100"
      ]
     },
     "execution_count": 131,
     "metadata": {},
     "output_type": "execute_result"
    }
   ],
   "source": [
    "10**2"
   ]
  },
  {
   "cell_type": "code",
   "execution_count": 133,
   "id": "04252c92-9008-4952-b6e3-188df47983b1",
   "metadata": {},
   "outputs": [
    {
     "data": {
      "text/plain": [
       "-0.5440211108893698"
      ]
     },
     "execution_count": 133,
     "metadata": {},
     "output_type": "execute_result"
    }
   ],
   "source": [
    "math.sin(10)"
   ]
  },
  {
   "cell_type": "code",
   "execution_count": 135,
   "id": "c2a606e8-bd0d-45cb-a4e3-0cc7f57c7f9a",
   "metadata": {},
   "outputs": [
    {
     "data": {
      "text/plain": [
       "90.0"
      ]
     },
     "execution_count": 135,
     "metadata": {},
     "output_type": "execute_result"
    }
   ],
   "source": [
    "math.degrees(pi/2)"
   ]
  },
  {
   "cell_type": "code",
   "execution_count": 137,
   "id": "88ae11ff-80d5-48dd-85c3-ff42c9682c81",
   "metadata": {},
   "outputs": [
    {
     "data": {
      "text/plain": [
       "3.141592653589793"
      ]
     },
     "execution_count": 137,
     "metadata": {},
     "output_type": "execute_result"
    }
   ],
   "source": [
    "math.radians(180)"
   ]
  },
  {
   "cell_type": "code",
   "execution_count": null,
   "id": "5149bd11-23a4-4c9f-a79e-1d4a739eb393",
   "metadata": {},
   "outputs": [],
   "source": []
  },
  {
   "cell_type": "code",
   "execution_count": null,
   "id": "d23c2c2e-e73b-44dd-910a-6f4a9210abab",
   "metadata": {},
   "outputs": [],
   "source": []
  },
  {
   "cell_type": "code",
   "execution_count": 141,
   "id": "5ef37cbc-30cc-4e59-b1a4-a902f2b723be",
   "metadata": {},
   "outputs": [],
   "source": [
    "import random"
   ]
  },
  {
   "cell_type": "code",
   "execution_count": 149,
   "id": "5aeb0c03-eb72-4ca3-8ee3-7b3b82e1a022",
   "metadata": {},
   "outputs": [
    {
     "data": {
      "text/plain": [
       "76"
      ]
     },
     "execution_count": 149,
     "metadata": {},
     "output_type": "execute_result"
    }
   ],
   "source": [
    "random.randint(0,100)"
   ]
  },
  {
   "cell_type": "code",
   "execution_count": 179,
   "id": "d861866f-6a1e-4109-bf70-7c4a9a855663",
   "metadata": {},
   "outputs": [
    {
     "data": {
      "text/plain": [
       "74"
      ]
     },
     "execution_count": 179,
     "metadata": {},
     "output_type": "execute_result"
    }
   ],
   "source": [
    "random.seed(101)\n",
    "random.randint(0,100)"
   ]
  },
  {
   "cell_type": "code",
   "execution_count": 181,
   "id": "7dec8708-5828-4f66-9269-a016019fe549",
   "metadata": {},
   "outputs": [
    {
     "data": {
      "text/plain": [
       "24"
      ]
     },
     "execution_count": 181,
     "metadata": {},
     "output_type": "execute_result"
    }
   ],
   "source": [
    "random.randint(0,100)"
   ]
  },
  {
   "cell_type": "code",
   "execution_count": 187,
   "id": "d48305dd-c13d-4ab6-a037-7a395a596b07",
   "metadata": {},
   "outputs": [
    {
     "name": "stdout",
     "output_type": "stream",
     "text": [
      "74\n",
      "24\n",
      "69\n",
      "45\n",
      "59\n"
     ]
    }
   ],
   "source": [
    "random.seed(101)\n",
    "print(random.randint(0,100))\n",
    "print(random.randint(0,100))\n",
    "print(random.randint(0,100))\n",
    "print(random.randint(0,100))\n",
    "print(random.randint(0,100))"
   ]
  },
  {
   "cell_type": "code",
   "execution_count": 189,
   "id": "eb9b6b60-6bd8-4aab-9285-d13d78d84008",
   "metadata": {},
   "outputs": [],
   "source": [
    "mylist = list(range(0,20))"
   ]
  },
  {
   "cell_type": "code",
   "execution_count": 191,
   "id": "81fd1808-e67f-49bf-a893-55d8509c0038",
   "metadata": {},
   "outputs": [
    {
     "data": {
      "text/plain": [
       "[0, 1, 2, 3, 4, 5, 6, 7, 8, 9, 10, 11, 12, 13, 14, 15, 16, 17, 18, 19]"
      ]
     },
     "execution_count": 191,
     "metadata": {},
     "output_type": "execute_result"
    }
   ],
   "source": [
    "mylist"
   ]
  },
  {
   "cell_type": "code",
   "execution_count": 203,
   "id": "a42133a5-cf29-4be2-8c94-712839ec6aa4",
   "metadata": {},
   "outputs": [
    {
     "data": {
      "text/plain": [
       "9"
      ]
     },
     "execution_count": 203,
     "metadata": {},
     "output_type": "execute_result"
    }
   ],
   "source": [
    "random.choice(mylist)"
   ]
  },
  {
   "cell_type": "code",
   "execution_count": 225,
   "id": "a89edd10-2fee-403e-aa12-b0c2f01a5648",
   "metadata": {},
   "outputs": [
    {
     "data": {
      "text/plain": [
       "[0, 1, 2, 3, 4, 5, 6, 7, 8, 9, 10, 11, 12, 13, 14, 15, 16, 17, 18, 19]"
      ]
     },
     "execution_count": 225,
     "metadata": {},
     "output_type": "execute_result"
    }
   ],
   "source": [
    "mylist"
   ]
  },
  {
   "cell_type": "code",
   "execution_count": 229,
   "id": "5b6dbb28-dca7-490e-a1f0-2df87a195fb3",
   "metadata": {},
   "outputs": [
    {
     "data": {
      "text/plain": [
       "[18, 5, 4, 2, 19, 18, 6, 1, 13, 17]"
      ]
     },
     "execution_count": 229,
     "metadata": {},
     "output_type": "execute_result"
    }
   ],
   "source": [
    "#sample with replacement\n",
    "random.choices(population = mylist, k = 10)"
   ]
  },
  {
   "cell_type": "code",
   "execution_count": 231,
   "id": "8168a160-6db2-40ae-9ee7-73063a944b35",
   "metadata": {},
   "outputs": [
    {
     "data": {
      "text/plain": [
       "[0, 19, 12, 14, 1, 17, 5, 3, 4, 7]"
      ]
     },
     "execution_count": 231,
     "metadata": {},
     "output_type": "execute_result"
    }
   ],
   "source": [
    "#sample without replacement\n",
    "random.sample(population = mylist, k = 10)"
   ]
  },
  {
   "cell_type": "code",
   "execution_count": 233,
   "id": "cc23243d-3d2c-4148-8a58-93dc2f3f37d2",
   "metadata": {},
   "outputs": [
    {
     "data": {
      "text/plain": [
       "[0, 1, 2, 3, 4, 5, 6, 7, 8, 9, 10, 11, 12, 13, 14, 15, 16, 17, 18, 19]"
      ]
     },
     "execution_count": 233,
     "metadata": {},
     "output_type": "execute_result"
    }
   ],
   "source": [
    "mylist"
   ]
  },
  {
   "cell_type": "code",
   "execution_count": 235,
   "id": "f1b8eeda-3e52-463a-8dd0-869565d8860c",
   "metadata": {},
   "outputs": [],
   "source": [
    "random.shuffle(mylist)"
   ]
  },
  {
   "cell_type": "code",
   "execution_count": 237,
   "id": "fc4248b5-01c0-4728-84b5-a13b341176f9",
   "metadata": {},
   "outputs": [
    {
     "data": {
      "text/plain": [
       "[12, 13, 3, 7, 1, 14, 9, 8, 19, 11, 15, 5, 4, 2, 0, 16, 10, 18, 17, 6]"
      ]
     },
     "execution_count": 237,
     "metadata": {},
     "output_type": "execute_result"
    }
   ],
   "source": [
    "mylist"
   ]
  },
  {
   "cell_type": "code",
   "execution_count": 247,
   "id": "85bcf241-f2b7-40bc-8ba0-66bee773c3bf",
   "metadata": {},
   "outputs": [
    {
     "data": {
      "text/plain": [
       "86.01837282262291"
      ]
     },
     "execution_count": 247,
     "metadata": {},
     "output_type": "execute_result"
    }
   ],
   "source": [
    "random.uniform(a = 0, b = 100)"
   ]
  },
  {
   "cell_type": "code",
   "execution_count": 256,
   "id": "401e675e-004f-4fe0-bd98-22552f1598e6",
   "metadata": {},
   "outputs": [
    {
     "data": {
      "text/plain": [
       "-1.0750297305766927"
      ]
     },
     "execution_count": 256,
     "metadata": {},
     "output_type": "execute_result"
    }
   ],
   "source": [
    "random.gauss(mu = 0, sigma = 1)"
   ]
  },
  {
   "cell_type": "code",
   "execution_count": null,
   "id": "1bfde24b-a9fe-4b7e-8df3-115dfe09dc85",
   "metadata": {},
   "outputs": [],
   "source": []
  },
  {
   "cell_type": "code",
   "execution_count": null,
   "id": "876bf7ea-fbdd-4b45-9563-624aaa7f695a",
   "metadata": {},
   "outputs": [],
   "source": []
  },
  {
   "cell_type": "code",
   "execution_count": null,
   "id": "8449e369-6406-4c90-bfbb-f7c698d83857",
   "metadata": {},
   "outputs": [],
   "source": []
  },
  {
   "cell_type": "code",
   "execution_count": 279,
   "id": "15ff7ea8-be1b-42e0-a342-5aeb4d03a18c",
   "metadata": {},
   "outputs": [
    {
     "name": "stdout",
     "output_type": "stream",
     "text": [
      "5\n"
     ]
    },
    {
     "ename": "TypeError",
     "evalue": "unsupported operand type(s) for +: 'int' and 'list'",
     "output_type": "error",
     "traceback": [
      "\u001b[1;31m---------------------------------------------------------------------------\u001b[0m",
      "\u001b[1;31mTypeError\u001b[0m                                 Traceback (most recent call last)",
      "Cell \u001b[1;32mIn[279], line 7\u001b[0m\n\u001b[0;32m      5\u001b[0m result1 \u001b[38;5;241m=\u001b[39m y \u001b[38;5;241m+\u001b[39m z\n\u001b[0;32m      6\u001b[0m \u001b[38;5;28mprint\u001b[39m(result1)\n\u001b[1;32m----> 7\u001b[0m result2 \u001b[38;5;241m=\u001b[39m y \u001b[38;5;241m+\u001b[39m x\n\u001b[0;32m      8\u001b[0m \u001b[38;5;28mprint\u001b[39m(result2)\n\u001b[0;32m      9\u001b[0m \u001b[38;5;28mprint\u001b[39m(y)\n",
      "\u001b[1;31mTypeError\u001b[0m: unsupported operand type(s) for +: 'int' and 'list'"
     ]
    }
   ],
   "source": [
    "x = [1,2,3]\n",
    "y = 2\n",
    "z = 3\n",
    "\n",
    "result1 = y + z\n",
    "print(result1)\n",
    "result2 = y + x\n",
    "print(result2)\n",
    "print(y)"
   ]
  },
  {
   "cell_type": "code",
   "execution_count": 281,
   "id": "26e74971-abb5-42cd-958f-6027f1bdf269",
   "metadata": {},
   "outputs": [],
   "source": [
    "import pdb"
   ]
  },
  {
   "cell_type": "code",
   "execution_count": null,
   "id": "32ad3b80-1846-4ac3-81d3-72b173ed85f8",
   "metadata": {},
   "outputs": [
    {
     "name": "stdout",
     "output_type": "stream",
     "text": [
      "--Return--\n",
      "None\n",
      "> \u001b[1;32mc:\\users\\hp\\appdata\\local\\temp\\ipykernel_8380\\1912475531.py\u001b[0m(7)\u001b[0;36m<module>\u001b[1;34m()\u001b[0m\n",
      "\n"
     ]
    },
    {
     "name": "stdin",
     "output_type": "stream",
     "text": [
      "ipdb>  x\n"
     ]
    },
    {
     "name": "stdout",
     "output_type": "stream",
     "text": [
      "[1, 2, 3]\n"
     ]
    },
    {
     "name": "stdin",
     "output_type": "stream",
     "text": [
      "ipdb>  y\n"
     ]
    },
    {
     "name": "stdout",
     "output_type": "stream",
     "text": [
      "2\n"
     ]
    },
    {
     "name": "stdin",
     "output_type": "stream",
     "text": [
      "ipdb>  z\n"
     ]
    },
    {
     "name": "stdout",
     "output_type": "stream",
     "text": [
      "3\n"
     ]
    }
   ],
   "source": [
    "x = [1,2,3]\n",
    "y = 2\n",
    "z = 3\n",
    "\n",
    "result_one = y + z\n",
    "\n",
    "pdb.set_trace()\n",
    "\n",
    "result_two = y + x"
   ]
  },
  {
   "cell_type": "code",
   "execution_count": 1,
   "id": "59762d7f-8fa0-46c4-a93b-45841419a503",
   "metadata": {},
   "outputs": [],
   "source": [
    "x = 1\n",
    "y = 2\n",
    "\n",
    "z = x+y"
   ]
  },
  {
   "cell_type": "code",
   "execution_count": 3,
   "id": "d2dd973f-6a98-44ed-8bd1-beeb0093ded3",
   "metadata": {},
   "outputs": [
    {
     "data": {
      "text/plain": [
       "3"
      ]
     },
     "execution_count": 3,
     "metadata": {},
     "output_type": "execute_result"
    }
   ],
   "source": [
    "z"
   ]
  },
  {
   "cell_type": "code",
   "execution_count": null,
   "id": "a7347ca3-8a09-472d-b032-c4d6e1af0f40",
   "metadata": {},
   "outputs": [],
   "source": []
  }
 ],
 "metadata": {
  "kernelspec": {
   "display_name": "Python [conda env:base] *",
   "language": "python",
   "name": "conda-base-py"
  },
  "language_info": {
   "codemirror_mode": {
    "name": "ipython",
    "version": 3
   },
   "file_extension": ".py",
   "mimetype": "text/x-python",
   "name": "python",
   "nbconvert_exporter": "python",
   "pygments_lexer": "ipython3",
   "version": "3.12.7"
  }
 },
 "nbformat": 4,
 "nbformat_minor": 5
}
