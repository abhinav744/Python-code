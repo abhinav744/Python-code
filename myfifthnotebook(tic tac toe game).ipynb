{
 "cells": [
  {
   "cell_type": "code",
   "execution_count": 75,
   "id": "b8c4ee8e-2762-4682-a611-d574b6babe54",
   "metadata": {},
   "outputs": [],
   "source": [
    "from IPython.display import clear_output\n",
    "\n",
    "def display_board(board):\n",
    "    clear_output()\n",
    "    print('    |    |')\n",
    "    print(' ' + board[7] + '  | ' + board[8] + '  | ' + board[9])\n",
    "    print('    |    |')\n",
    "    print('--------------')\n",
    "    print('    |    |')\n",
    "    print(' ' + board[4] + '  | ' + board[5] + '  | ' + board[6])\n",
    "    print('    |    |')\n",
    "    print('--------------')\n",
    "    print('    |    |')\n",
    "    print(' ' + board[1] + '  | ' + board[2] + '  | ' + board[3])\n",
    "    print('    |    |')"
   ]
  },
  {
   "cell_type": "code",
   "execution_count": 77,
   "id": "28adfca6-e381-4e11-8b18-af2bbbc84f44",
   "metadata": {},
   "outputs": [
    {
     "name": "stdout",
     "output_type": "stream",
     "text": [
      "    |    |\n",
      " X  | O  | X\n",
      "    |    |\n",
      "--------------\n",
      "    |    |\n",
      " O  | X  | O\n",
      "    |    |\n",
      "--------------\n",
      "    |    |\n",
      " X  | O  | X\n",
      "    |    |\n"
     ]
    }
   ],
   "source": [
    "test_board = ['#','X','O','X','O','X','O','X','O','X']\n",
    "display_board(test_board)"
   ]
  },
  {
   "cell_type": "code",
   "execution_count": 79,
   "id": "5b839696-2b0a-4c0e-8f2d-396e7d1b7218",
   "metadata": {},
   "outputs": [],
   "source": [
    "def player_input():\n",
    "    marker = ''\n",
    "    while not (marker == 'X' or marker == 'O'):\n",
    "        marker = input('Player1: Choose X or O: ').upper()\n",
    "\n",
    "    if marker == 'X':\n",
    "        return ('X','O')\n",
    "    else:\n",
    "        return ('O','X')"
   ]
  },
  {
   "cell_type": "code",
   "execution_count": 83,
   "id": "10ba322e-2404-447d-bea3-6b6b035efebf",
   "metadata": {},
   "outputs": [
    {
     "name": "stdin",
     "output_type": "stream",
     "text": [
      "Player1: Choose X or O:  x\n"
     ]
    }
   ],
   "source": [
    "player1_marker, player2_marker = player_input()"
   ]
  },
  {
   "cell_type": "code",
   "execution_count": 85,
   "id": "9bc0f2b5-a00a-44ff-8020-47491745ba56",
   "metadata": {},
   "outputs": [
    {
     "data": {
      "text/plain": [
       "'O'"
      ]
     },
     "execution_count": 85,
     "metadata": {},
     "output_type": "execute_result"
    }
   ],
   "source": [
    "player2_marker"
   ]
  },
  {
   "cell_type": "code",
   "execution_count": 87,
   "id": "6514336b-d9ac-46d3-9517-3588d811c975",
   "metadata": {},
   "outputs": [],
   "source": [
    "def place_marker(board, marker, position):\n",
    "    board[position] = marker"
   ]
  },
  {
   "cell_type": "code",
   "execution_count": 89,
   "id": "2bb80e7e-9aa1-49a7-bb57-2fb4ddf2a19e",
   "metadata": {},
   "outputs": [
    {
     "data": {
      "text/plain": [
       "['#', 'X', 'O', 'X', 'O', 'X', 'O', 'X', 'O', 'X']"
      ]
     },
     "execution_count": 89,
     "metadata": {},
     "output_type": "execute_result"
    }
   ],
   "source": [
    "test_board"
   ]
  },
  {
   "cell_type": "code",
   "execution_count": 91,
   "id": "cbbd4f33-a983-4814-a411-c37f8a15bc6f",
   "metadata": {},
   "outputs": [
    {
     "name": "stdout",
     "output_type": "stream",
     "text": [
      "    |    |\n",
      " X  | $  | X\n",
      "    |    |\n",
      "--------------\n",
      "    |    |\n",
      " O  | X  | O\n",
      "    |    |\n",
      "--------------\n",
      "    |    |\n",
      " X  | O  | X\n",
      "    |    |\n"
     ]
    }
   ],
   "source": [
    "place_marker(test_board,'$',8)\n",
    "display_board(test_board)"
   ]
  },
  {
   "cell_type": "code",
   "execution_count": 99,
   "id": "4e33606f-f029-4d6b-b4f3-60e0d0a38042",
   "metadata": {},
   "outputs": [],
   "source": [
    "def win_check(board, mark):\n",
    "    return ((board[7] == mark and board[8] == mark and board[9] == mark) or \n",
    "    (board[4] == mark and board[5] == mark and board[6] == mark) or \n",
    "    (board[1] == mark and board[2] == mark and board[3] == mark) or \n",
    "    (board[7] == mark and board[4] == mark and board[1] == mark) or \n",
    "    (board[8] == mark and board[5] == mark and board[2] == mark) or \n",
    "    (board[9] == mark and board[6] == mark and board[3] == mark) or \n",
    "    (board[7] == mark and board[5] == mark and board[3] == mark) or \n",
    "    (board[9] == mark and board[5] == mark and board[1] == mark))"
   ]
  },
  {
   "cell_type": "code",
   "execution_count": 103,
   "id": "e436b6b2-418d-4166-8879-bb97e0247ac5",
   "metadata": {},
   "outputs": [
    {
     "name": "stdout",
     "output_type": "stream",
     "text": [
      "    |    |\n",
      " X  | $  | X\n",
      "    |    |\n",
      "--------------\n",
      "    |    |\n",
      " O  | X  | O\n",
      "    |    |\n",
      "--------------\n",
      "    |    |\n",
      " X  | O  | X\n",
      "    |    |\n"
     ]
    },
    {
     "data": {
      "text/plain": [
       "True"
      ]
     },
     "execution_count": 103,
     "metadata": {},
     "output_type": "execute_result"
    }
   ],
   "source": [
    "display_board(test_board)\n",
    "win_check(test_board,'X')"
   ]
  },
  {
   "cell_type": "code",
   "execution_count": 105,
   "id": "2f3aba35-1a2c-466f-b20a-1656a8188d7f",
   "metadata": {},
   "outputs": [],
   "source": [
    "import random\n",
    "\n",
    "def choose_first():\n",
    "    flip = random.randint(0,1)\n",
    "    if flip == 0:\n",
    "        return 'Player1'\n",
    "    else:\n",
    "        return 'Player2'"
   ]
  },
  {
   "cell_type": "code",
   "execution_count": 107,
   "id": "dc1a819e-076a-4772-ad87-2ee393bfb9df",
   "metadata": {},
   "outputs": [],
   "source": [
    "def space_check(board, position):\n",
    "    return board[position] == ' '"
   ]
  },
  {
   "cell_type": "code",
   "execution_count": 109,
   "id": "f10ff0b4-ab20-4c95-a8b1-bcd89f0b0388",
   "metadata": {},
   "outputs": [],
   "source": [
    "def full_board_check(board):\n",
    "    for i in range(1, 10):\n",
    "        if space_check(board, i):\n",
    "            return False\n",
    "\n",
    "    return True"
   ]
  },
  {
   "cell_type": "code",
   "execution_count": 111,
   "id": "18184b56-dd25-4c06-8d43-ca940a1c3b6f",
   "metadata": {},
   "outputs": [],
   "source": [
    "def player_choice(board):\n",
    "    position = 0\n",
    "    while position not in [1,2,3,4,5,6,7,8,9] or not space_check(board, position):\n",
    "        position = int(input('Choose a position: (1-9) '))\n",
    "\n",
    "    return position"
   ]
  },
  {
   "cell_type": "code",
   "execution_count": 113,
   "id": "84891f1f-d682-41d2-87bc-2a2edd41142d",
   "metadata": {},
   "outputs": [],
   "source": [
    "def replay():\n",
    "    choice = input('Play again? Enter Yes or No')\n",
    "    return choice == 'Yes'"
   ]
  },
  {
   "cell_type": "code",
   "execution_count": null,
   "id": "ae43362f-08c9-495a-963d-4f415544db62",
   "metadata": {},
   "outputs": [],
   "source": []
  }
 ],
 "metadata": {
  "kernelspec": {
   "display_name": "Python 3 (ipykernel)",
   "language": "python",
   "name": "python3"
  },
  "language_info": {
   "codemirror_mode": {
    "name": "ipython",
    "version": 3
   },
   "file_extension": ".py",
   "mimetype": "text/x-python",
   "name": "python",
   "nbconvert_exporter": "python",
   "pygments_lexer": "ipython3",
   "version": "3.12.7"
  }
 },
 "nbformat": 4,
 "nbformat_minor": 5
}
